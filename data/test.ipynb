{
 "cells": [
  {
   "cell_type": "code",
   "id": "initial_id",
   "metadata": {
    "collapsed": true,
    "ExecuteTime": {
     "end_time": "2025-10-27T06:33:15.497735Z",
     "start_time": "2025-10-27T06:33:15.311023Z"
    }
   },
   "source": [
    "\n",
    "import pandas as pd\n",
    "\n",
    "# Use the absolute path to your file\n",
    "Node = pd.read_csv(\"F:/Python/network_reliability_system/data/Node.csv\")\n",
    "Edge= pd.read_csv(\"F:/Python/network_reliability_system/data/Edge.csv\")\n",
    "\n",
    "print(\"Node data head:\")\n",
    "print(Node.head())\n",
    "print(\"Edge data head:\")\n",
    "print(Edge.head())\n",
    "\n",
    "\n"
   ],
   "outputs": [
    {
     "name": "stdout",
     "output_type": "stream",
     "text": [
      "Node data head:\n",
      "     Type     Name  Reliability    Cost\n",
      "0  Server  Server1         0.96  108000\n",
      "1  Router  Router1         0.88   52000\n",
      "2  Router  Router2         0.84   47000\n",
      "3  Router  Router3         0.86   48000\n",
      "4  Switch      FST         0.91   21000\n",
      "Edge data head:\n",
      "    Source   Target\n",
      "0  Server1  Router1\n",
      "1  Server1  Router2\n",
      "2  Server1  Router3\n",
      "3  Router1      FST\n",
      "4  Router2      FBS\n"
     ]
    }
   ],
   "execution_count": 1
  },
  {
   "metadata": {
    "ExecuteTime": {
     "end_time": "2025-10-27T06:38:25.222013Z",
     "start_time": "2025-10-27T06:38:25.217042Z"
    }
   },
   "cell_type": "code",
   "source": "Node[\"Name\"]",
   "id": "c1785f2a7309f71",
   "outputs": [
    {
     "data": {
      "text/plain": [
       "0        Server1\n",
       "1        Router1\n",
       "2        Router2\n",
       "3        Router3\n",
       "4            FST\n",
       "         ...    \n",
       "80    OFFICEPC16\n",
       "81    OFFICEPC17\n",
       "82    OFFICEPC18\n",
       "83    OFFICEPC19\n",
       "84    OFFICEPC20\n",
       "Name: Name, Length: 85, dtype: object"
      ]
     },
     "execution_count": 2,
     "metadata": {},
     "output_type": "execute_result"
    }
   ],
   "execution_count": 2
  },
  {
   "metadata": {
    "ExecuteTime": {
     "end_time": "2025-10-27T06:40:47.343501Z",
     "start_time": "2025-10-27T06:40:47.339904Z"
    }
   },
   "cell_type": "code",
   "source": [
    "node= [Node[\"Name\"]]\n",
    "print(*node)\n"
   ],
   "id": "33689e247176a7ce",
   "outputs": [
    {
     "name": "stdout",
     "output_type": "stream",
     "text": [
      "0        Server1\n",
      "1        Router1\n",
      "2        Router2\n",
      "3        Router3\n",
      "4            FST\n",
      "         ...    \n",
      "80    OFFICEPC16\n",
      "81    OFFICEPC17\n",
      "82    OFFICEPC18\n",
      "83    OFFICEPC19\n",
      "84    OFFICEPC20\n",
      "Name: Name, Length: 85, dtype: object\n"
     ]
    }
   ],
   "execution_count": 3
  },
  {
   "metadata": {
    "ExecuteTime": {
     "end_time": "2025-10-27T06:44:29.655748Z",
     "start_time": "2025-10-27T06:44:29.653116Z"
    }
   },
   "cell_type": "code",
   "source": [
    "arr=list(Node[\"Name\"])\n",
    "print(*arr)"
   ],
   "id": "93e9d3d6aab6349",
   "outputs": [
    {
     "name": "stdout",
     "output_type": "stream",
     "text": [
      "Server1 Router1 Router2 Router3 FST FBS FSSS FASS CSE ICT ES MARKETING MANAGEMENT LAW IR MCJ SOCIOLOGY ENGLISH ECON DS LABPC1 LABPC2 LABPC3 LABPC4 LABPC5 LABPC6 LABPC7 LABPC8 LABPC9 LABPC10 LABPC11 LABPC12 LABPC13 LABPC14 LABPC15 LABPC16 LABPC17 LABPC18 LABPC19 LABPC20 LABPC21 LABPC22 LABPC23 LABPC24 LABPC25 LABPC26 LABPC27 LABPC28 LABPC29 LABPC30 TEACHERPC1 TEACHERPC2 TEACHERPC3 TEACHERPC4 TEACHERPC5 TEACHERPC6 TEACHERPC7 TEACHERPC8 TEACHERPC9 TEACHERPC10 TEACHERPC11 TEACHERPC12 TEACHERPC13 TEACHERPC14 TEACHERPC15 OFFICEPC1 OFFICEPC2 OFFICEPC3 OFFICEPC4 OFFICEPC5 OFFICEPC6 OFFICEPC7 OFFICEPC8 OFFICEPC9 OFFICEPC10 OFFICEPC11 OFFICEPC12 OFFICEPC13 OFFICEPC14 OFFICEPC15 OFFICEPC16 OFFICEPC17 OFFICEPC18 OFFICEPC19 OFFICEPC20\n"
     ]
    }
   ],
   "execution_count": 4
  },
  {
   "metadata": {
    "ExecuteTime": {
     "end_time": "2025-10-27T07:32:41.684607Z",
     "start_time": "2025-10-27T07:32:41.679116Z"
    }
   },
   "cell_type": "code",
   "source": [
    "pair=[]\n",
    "for i in range(len(Edge[\"Source\"])):\n",
    "    pair.append([Edge.iloc[i][\"Source\"],Edge.iloc[i][\"Target\"]])\n",
    "\n",
    "print(*pair)\n",
    "len(pair)"
   ],
   "id": "834bbe3c61ebf682",
   "outputs": [
    {
     "name": "stdout",
     "output_type": "stream",
     "text": [
      "['Server1', 'Router1'] ['Server1', 'Router2'] ['Server1', 'Router3'] ['Router1', 'FST'] ['Router2', 'FBS'] ['Router3', 'FSSS'] ['Router3', 'FASS'] ['FST', 'CSE'] ['FST', 'ICT'] ['FST', 'ES'] ['FBS', 'MARKETING'] ['FBS', 'MANAGEMENT'] ['FSSS', 'LAW'] ['FSSS', 'IR'] ['FSSS', 'MCJ'] ['FASS', 'SOCIOLOGY'] ['FASS', 'ENGLISH'] ['FASS', 'ECON'] ['FASS', 'DS'] ['CSE', 'LABPC1'] ['CSE', 'LABPC2'] ['CSE', 'LABPC3'] ['CSE', 'LABPC4'] ['CSE', 'LABPC5'] ['CSE', 'LABPC6'] ['CSE', 'LABPC7'] ['CSE', 'LABPC8'] ['CSE', 'LABPC9'] ['CSE', 'LABPC10'] ['CSE', 'LABPC11'] ['CSE', 'LABPC12'] ['CSE', 'LABPC13'] ['CSE', 'LABPC14'] ['CSE', 'LABPC15'] ['CSE', 'LABPC16'] ['CSE', 'LABPC17'] ['CSE', 'LABPC18'] ['CSE', 'LABPC19'] ['CSE', 'LABPC20'] ['CSE', 'TEACHERPC1'] ['CSE', 'TEACHERPC2'] ['CSE', 'TEACHERPC3'] ['CSE', 'OFFICEPC1'] ['CSE', 'OFFICEPC2'] ['ICT', 'LABPC21'] ['ICT', 'LABPC22'] ['ICT', 'LABPC23'] ['ICT', 'LABPC24'] ['ICT', 'LABPC25'] ['ICT', 'LABPC26'] ['ICT', 'LABPC27'] ['ICT', 'LABPC28'] ['ICT', 'LABPC29'] ['ICT', 'LABPC30'] ['ICT', 'TEACHERPC5'] ['ICT', 'TEACHERPC4'] ['ICT', 'OFFICEPC3'] ['ICT', 'OFFICEPC4'] ['ICT', 'OFFICEPC5'] ['SOCIOLOGY', 'TEACHERPC6'] ['SOCIOLOGY', 'OFFICEPC6'] ['SOCIOLOGY', 'OFFICEPC7'] ['ENGLISH', 'OFFICEPC8'] ['ENGLISH', 'OFFICEPC9 '] ['ENGLISH', 'TEACHERPC7'] ['ECON', 'TEACHERPC8'] ['ECON', 'OFFICEPC10'] ['ECON', 'OFFICEPC11'] ['DS', 'TEACHERPC9'] ['DS', 'OFFICEPC12'] ['DS', 'OFFICEPC13'] ['ES', 'TEACHERPC10'] ['ES', 'OFFICEPC14'] ['ES', 'OFFICEPC15'] ['MARKETING', 'TEACHERPC11'] ['MARKETING', 'OFFICEPC16'] ['MARKETING', 'OFFICEPC17'] ['MANAGEMENT', 'TEACHERPC12'] ['MANAGEMENT', 'OFFICEPC18'] ['MANAGEMENT', 'OFFICEPC19'] ['LAW', 'TEACHERPC13'] ['LAW', 'OFFICEPC20'] ['LAW', 'OFFICEPC21'] ['IR', 'TEACHERPC14'] ['IR', 'OFFICEPC22'] ['IR', 'OFFICEPC23'] ['MCJ', 'TEACHERPC15'] ['MCJ', 'OFFICEPC24'] ['MCJ', 'OFFICEPC25']\n"
     ]
    },
    {
     "data": {
      "text/plain": [
       "89"
      ]
     },
     "execution_count": 11,
     "metadata": {},
     "output_type": "execute_result"
    }
   ],
   "execution_count": 11
  },
  {
   "metadata": {},
   "cell_type": "code",
   "outputs": [],
   "execution_count": null,
   "source": "",
   "id": "764acb3d9b99cc96"
  }
 ],
 "metadata": {
  "kernelspec": {
   "display_name": "Python 3",
   "language": "python",
   "name": "python3"
  },
  "language_info": {
   "codemirror_mode": {
    "name": "ipython",
    "version": 2
   },
   "file_extension": ".py",
   "mimetype": "text/x-python",
   "name": "python",
   "nbconvert_exporter": "python",
   "pygments_lexer": "ipython2",
   "version": "2.7.6"
  }
 },
 "nbformat": 4,
 "nbformat_minor": 5
}
